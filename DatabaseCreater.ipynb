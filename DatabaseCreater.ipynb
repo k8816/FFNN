{
 "cells": [
  {
   "cell_type": "markdown",
   "metadata": {},
   "source": [
    "3 Tables:\n",
    "players: catalog of many qbs, rbs, wrs, and tes\n",
    "player_stats: yearly statistics for every player\n",
    "draft_board: overall and positional draft rankings from 2011-present"
   ]
  },
  {
   "cell_type": "code",
   "execution_count": 36,
   "metadata": {},
   "outputs": [],
   "source": [
    "#Import dependencies\n",
    "import nfl_data_py as nfl\n",
    "import pandas as pd\n",
    "from sqlalchemy import create_engine\n",
    "import requests\n",
    "from bs4 import BeautifulSoup\n",
    "import getpass\n",
    "from fuzzywuzzy import fuzz\n",
    "from fuzzywuzzy import process"
   ]
  },
  {
   "cell_type": "code",
   "execution_count": 16,
   "metadata": {},
   "outputs": [],
   "source": [
    "#Create SQL Engine\n",
    "DB_NAME = \"NFLDB_1\"\n",
    "USERNAME = \"root\"\n",
    "PASSWORD = getpass.getpass(\"Enter your MySQL password: \")\n",
    "HOST = \"localhost\"\n",
    "\n",
    "engine = create_engine(f\"mysql+pymysql://{USERNAME}:{PASSWORD}@{HOST}/{DB_NAME}\")"
   ]
  },
  {
   "cell_type": "code",
   "execution_count": 21,
   "metadata": {},
   "outputs": [
    {
     "data": {
      "text/plain": [
       "2651"
      ]
     },
     "execution_count": 21,
     "metadata": {},
     "output_type": "execute_result"
    }
   ],
   "source": [
    "#Create players table\n",
    "players = nfl.import_players()\n",
    "players = players[['gsis_id', 'draft_number', 'football_name', 'last_name', 'position', 'rookie_year', 'height', 'weight']]\n",
    "players[\"draft_number\"] = players[\"draft_number\"].astype(\"object\")\n",
    "players.loc[:, \"draft_number\"] = players[\"draft_number\"].fillna(\"UDFA\")\n",
    "players = players.dropna()\n",
    "players = players[players[\"position\"].isin(['QB', 'RB', 'WR', 'TE'])]\n",
    "\n",
    "players['football_name'] = players['football_name'].astype('string')\n",
    "players['last_name'] = players['last_name'].astype('string')\n",
    "players['draft_number'] = players['draft_number'].astype('string')\n",
    "players['position'] = players['position'].astype('string')\n",
    "players['rookie_year'] = pd.to_numeric(players['rookie_year'], errors='coerce').astype('Int64')\n",
    "players['height'] = pd.to_numeric(players['height'], errors='coerce').astype('Int64')\n",
    "players['weight'] = pd.to_numeric(players['weight'], errors='coerce').astype('Int64')\n",
    "players = players.rename(columns={'football_name': 'first_name', 'gsis_id': 'id'})\n",
    "\n",
    "players.to_sql('players', con=engine, if_exists='append', index=False)"
   ]
  },
  {
   "cell_type": "code",
   "execution_count": 22,
   "metadata": {},
   "outputs": [
    {
     "data": {
      "text/plain": [
       "6682"
      ]
     },
     "execution_count": 22,
     "metadata": {},
     "output_type": "execute_result"
    }
   ],
   "source": [
    "#Create player stats table\n",
    "player_stats = nfl.import_seasonal_data(range(2014, 2025), s_type=\"REG\")\n",
    "\n",
    "#Stats omitted: season_type, pacr, dakota, racr, wopr_x, wopr_y\n",
    "player_stats = player_stats[['player_id', 'season', 'completions', 'attempts',\n",
    "       'passing_yards', 'passing_tds', 'interceptions', 'sacks', 'sack_yards',\n",
    "       'sack_fumbles', 'sack_fumbles_lost', 'passing_air_yards',\n",
    "       'passing_yards_after_catch', 'passing_first_downs', 'passing_epa',\n",
    "       'passing_2pt_conversions', 'carries', 'rushing_yards',\n",
    "       'rushing_tds', 'rushing_fumbles', 'rushing_fumbles_lost',\n",
    "       'rushing_first_downs', 'rushing_epa', 'rushing_2pt_conversions',\n",
    "       'receptions', 'targets', 'receiving_yards', 'receiving_tds',\n",
    "       'receiving_fumbles', 'receiving_fumbles_lost', 'receiving_air_yards',\n",
    "       'receiving_yards_after_catch', 'receiving_first_downs', 'receiving_epa',\n",
    "       'receiving_2pt_conversions', 'target_share', 'air_yards_share', \n",
    "       'special_teams_tds', 'fantasy_points', 'fantasy_points_ppr',\n",
    "       'games', 'tgt_sh', 'ay_sh', 'yac_sh', 'ry_sh', 'rtd_sh',\n",
    "       'rfd_sh', 'rtdfd_sh', 'dom', 'w8dom', 'yptmpa', 'ppr_sh']]\n",
    "\n",
    "player_stats.to_sql('player_stats', engine, if_exists='append', index=False)"
   ]
  },
  {
   "cell_type": "code",
   "execution_count": 50,
   "metadata": {},
   "outputs": [],
   "source": [
    "def get_best_match(player_name, player_id_mapping, threshold=85):\n",
    "    #85 threshold is the sweetspot\n",
    "    # Check for exact match first\n",
    "    exact_match = player_id_mapping[player_id_mapping['player_name'] == player_name]\n",
    "    if not exact_match.empty:\n",
    "        return exact_match['id'].values[0]\n",
    "    \n",
    "    # If no exact match, use fuzzywuzzy to find the best match\n",
    "    match = process.extractOne(player_name, player_id_mapping['player_name'], scorer=fuzz.partial_ratio)\n",
    "    \n",
    "    if match and match[1] >= threshold:\n",
    "        # If the match score is above the threshold, return the corresponding player_id\n",
    "        best_match_player_name = match[0]\n",
    "        player_id = player_id_mapping.loc[player_id_mapping['player_name'] == best_match_player_name, 'id'].values[0]\n",
    "        return player_id\n",
    "    else:\n",
    "        # If no match or score is below threshold, return None or handle it as needed\n",
    "        return None"
   ]
  },
  {
   "cell_type": "code",
   "execution_count": 54,
   "metadata": {},
   "outputs": [
    {
     "data": {
      "text/plain": [
       "2207"
      ]
     },
     "execution_count": 54,
     "metadata": {},
     "output_type": "execute_result"
    }
   ],
   "source": [
    "#Create draft board table\n",
    "df = pd.read_csv('adp-every-season.csv')\n",
    "df = df[df['Pos'].isin(['QB', 'RB', 'WR', 'TE'])]\n",
    "ovr_rank = qb_rank = rb_rank = wr_rank = te_rank = 1\n",
    "current_year = 2011 #May have to change based on csv\n",
    "for index, row in df.iterrows():\n",
    "    if row['Season'] > current_year:\n",
    "        ovr_rank = qb_rank = rb_rank = wr_rank = te_rank = 1\n",
    "        current_year = row['Season']\n",
    "    df.loc[index, 'overall_rank'] = ovr_rank\n",
    "    ovr_rank+=1\n",
    "    if row['Pos'] == 'QB':\n",
    "        df.loc[index, 'pos_rank'] = qb_rank\n",
    "        qb_rank+=1\n",
    "    elif row['Pos'] == 'RB':\n",
    "        df.loc[index, 'pos_rank'] = rb_rank\n",
    "        rb_rank+=1\n",
    "    elif row['Pos'] == 'WR':\n",
    "        df.loc[index, 'pos_rank'] = wr_rank\n",
    "        wr_rank+=1    \n",
    "    else :\n",
    "        df.loc[index, 'pos_rank'] = te_rank\n",
    "        te_rank+=1\n",
    "df = df.drop(columns='Overall')\n",
    "df.columns = ['player_name', 'pos', 'team', 'season', 'overall_rank', 'pos_rank']\n",
    "df = df[df['player_name'].str.split().str.len() > 1]\n",
    "\n",
    "with engine.connect() as connection:\n",
    "    query = \"\"\"SELECT id, CONCAT(first_name, ' ', last_name) AS player_name FROM players\"\"\"\n",
    "    player_id_mapping = pd.read_sql(query, connection)\n",
    "    \n",
    "merged_df = df.copy(deep=True)\n",
    "merged_df['player_id'] = merged_df['player_name'].apply(lambda name: get_best_match(name, player_id_mapping))\n",
    "merged_df = merged_df.dropna(subset=['player_id'])\n",
    "merged_df[['player_id', 'player_name', 'pos', 'team', 'season', 'overall_rank', 'pos_rank']].to_sql(\n",
    "    'draft_board', engine, if_exists='append', index=False\n",
    ")"
   ]
  }
 ],
 "metadata": {
  "kernelspec": {
   "display_name": "base",
   "language": "python",
   "name": "python3"
  },
  "language_info": {
   "codemirror_mode": {
    "name": "ipython",
    "version": 3
   },
   "file_extension": ".py",
   "mimetype": "text/x-python",
   "name": "python",
   "nbconvert_exporter": "python",
   "pygments_lexer": "ipython3",
   "version": "3.12.4"
  }
 },
 "nbformat": 4,
 "nbformat_minor": 2
}
